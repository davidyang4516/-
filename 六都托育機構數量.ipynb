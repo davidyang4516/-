{
 "cells": [
  {
   "cell_type": "code",
   "execution_count": 2,
   "id": "cd56ab49",
   "metadata": {},
   "outputs": [],
   "source": [
    "import numpy as np\n",
    "import seaborn as sns"
   ]
  },
  {
   "cell_type": "code",
   "execution_count": 3,
   "id": "52c4d004",
   "metadata": {},
   "outputs": [
    {
     "data": {
      "text/html": [
       "<div>\n",
       "<style scoped>\n",
       "    .dataframe tbody tr th:only-of-type {\n",
       "        vertical-align: middle;\n",
       "    }\n",
       "\n",
       "    .dataframe tbody tr th {\n",
       "        vertical-align: top;\n",
       "    }\n",
       "\n",
       "    .dataframe thead th {\n",
       "        text-align: right;\n",
       "    }\n",
       "</style>\n",
       "<table border=\"1\" class=\"dataframe\">\n",
       "  <thead>\n",
       "    <tr style=\"text-align: right;\">\n",
       "      <th></th>\n",
       "      <th>Cities</th>\n",
       "      <th>2014 year</th>\n",
       "      <th>2015 year</th>\n",
       "      <th>2016 year</th>\n",
       "      <th>2017 year</th>\n",
       "      <th>2018 year</th>\n",
       "      <th>2019 year</th>\n",
       "    </tr>\n",
       "  </thead>\n",
       "  <tbody>\n",
       "    <tr>\n",
       "      <th>0</th>\n",
       "      <td>New Taipei</td>\n",
       "      <td>138</td>\n",
       "      <td>160</td>\n",
       "      <td>174</td>\n",
       "      <td>189</td>\n",
       "      <td>211</td>\n",
       "      <td>235</td>\n",
       "    </tr>\n",
       "    <tr>\n",
       "      <th>1</th>\n",
       "      <td>Taipei</td>\n",
       "      <td>106</td>\n",
       "      <td>117</td>\n",
       "      <td>132</td>\n",
       "      <td>165</td>\n",
       "      <td>219</td>\n",
       "      <td>239</td>\n",
       "    </tr>\n",
       "    <tr>\n",
       "      <th>2</th>\n",
       "      <td>Taoyuan</td>\n",
       "      <td>-</td>\n",
       "      <td>63</td>\n",
       "      <td>69</td>\n",
       "      <td>75</td>\n",
       "      <td>87</td>\n",
       "      <td>104</td>\n",
       "    </tr>\n",
       "    <tr>\n",
       "      <th>3</th>\n",
       "      <td>Taichung</td>\n",
       "      <td>92</td>\n",
       "      <td>99</td>\n",
       "      <td>119</td>\n",
       "      <td>132</td>\n",
       "      <td>148</td>\n",
       "      <td>157</td>\n",
       "    </tr>\n",
       "    <tr>\n",
       "      <th>4</th>\n",
       "      <td>Tainan</td>\n",
       "      <td>51</td>\n",
       "      <td>53</td>\n",
       "      <td>54</td>\n",
       "      <td>62</td>\n",
       "      <td>69</td>\n",
       "      <td>84</td>\n",
       "    </tr>\n",
       "    <tr>\n",
       "      <th>5</th>\n",
       "      <td>Kaohsiung</td>\n",
       "      <td>49</td>\n",
       "      <td>56</td>\n",
       "      <td>64</td>\n",
       "      <td>69</td>\n",
       "      <td>72</td>\n",
       "      <td>77</td>\n",
       "    </tr>\n",
       "  </tbody>\n",
       "</table>\n",
       "</div>"
      ],
      "text/plain": [
       "       Cities 2014 year  2015 year  2016 year  2017 year  2018 year  2019 year\n",
       "0  New Taipei       138        160        174        189        211        235\n",
       "1      Taipei       106        117        132        165        219        239\n",
       "2     Taoyuan         -         63         69         75         87        104\n",
       "3    Taichung        92         99        119        132        148        157\n",
       "4      Tainan        51         53         54         62         69         84\n",
       "5   Kaohsiung        49         56         64         69         72         77"
      ]
     },
     "execution_count": 3,
     "metadata": {},
     "output_type": "execute_result"
    }
   ],
   "source": [
    "import pandas as pd\n",
    "c = pd.read_excel('table 6.xlsx')\n",
    "c"
   ]
  },
  {
   "cell_type": "code",
   "execution_count": 10,
   "id": "7bdc21df",
   "metadata": {
    "scrolled": true
   },
   "outputs": [
    {
     "data": {
      "text/plain": [
       "Text(0.5, 1.0, 'Children Care Centers of Cities')"
      ]
     },
     "execution_count": 10,
     "metadata": {},
     "output_type": "execute_result"
    },
    {
     "data": {
      "image/png": "[encoded data removed]",
      "text/plain": [
       "<Figure size 432x288 with 1 Axes>"
      ]
     },
     "metadata": {
      "needs_background": "light"
     },
     "output_type": "display_data"
    }
   ],
   "source": [
    "cccoc = sns.barplot(x='Cities',y=\"2019 year\",data=c)\n",
    "cccoc.set_title('Children Care Centers of Cities')"
   ]
  },
  {
   "cell_type": "code",
   "execution_count": null,
   "id": "47b439d3",
   "metadata": {},
   "outputs": [],
   "source": []
  }
 ],
 "metadata": {
  "kernelspec": {
   "display_name": "Python 3",
   "language": "python",
   "name": "python3"
  },
  "language_info": {
   "codemirror_mode": {
    "name": "ipython",
    "version": 3
   },
   "file_extension": ".py",
   "mimetype": "text/x-python",
   "name": "python",
   "nbconvert_exporter": "python",
   "pygments_lexer": "ipython3",
   "version": "3.8.8"
  }
 },
 "nbformat": 4,
 "nbformat_minor": 5
}
