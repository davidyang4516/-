{
 "cells": [
  {
   "cell_type": "code",
   "execution_count": 34,
   "id": "63c83de1",
   "metadata": {},
   "outputs": [
    {
     "data": {
      "text/html": [
       "<div>\n",
       "<style scoped>\n",
       "    .dataframe tbody tr th:only-of-type {\n",
       "        vertical-align: middle;\n",
       "    }\n",
       "\n",
       "    .dataframe tbody tr th {\n",
       "        vertical-align: top;\n",
       "    }\n",
       "\n",
       "    .dataframe thead th {\n",
       "        text-align: right;\n",
       "    }\n",
       "</style>\n",
       "<table border=\"1\" class=\"dataframe\">\n",
       "  <thead>\n",
       "    <tr style=\"text-align: right;\">\n",
       "      <th></th>\n",
       "      <th>city</th>\n",
       "      <th>maternity pension</th>\n",
       "      <th>childcare allowance</th>\n",
       "      <th>total</th>\n",
       "    </tr>\n",
       "  </thead>\n",
       "  <tbody>\n",
       "    <tr>\n",
       "      <th>0</th>\n",
       "      <td>New Taipei</td>\n",
       "      <td>20000</td>\n",
       "      <td>13000</td>\n",
       "      <td>33000</td>\n",
       "    </tr>\n",
       "    <tr>\n",
       "      <th>1</th>\n",
       "      <td>Taipei</td>\n",
       "      <td>20000</td>\n",
       "      <td>13000</td>\n",
       "      <td>33000</td>\n",
       "    </tr>\n",
       "    <tr>\n",
       "      <th>2</th>\n",
       "      <td>Taoyuan</td>\n",
       "      <td>30000</td>\n",
       "      <td>13000</td>\n",
       "      <td>43000</td>\n",
       "    </tr>\n",
       "    <tr>\n",
       "      <th>3</th>\n",
       "      <td>Taichung</td>\n",
       "      <td>10000</td>\n",
       "      <td>13000</td>\n",
       "      <td>23000</td>\n",
       "    </tr>\n",
       "    <tr>\n",
       "      <th>4</th>\n",
       "      <td>Tainan</td>\n",
       "      <td>6000</td>\n",
       "      <td>13000</td>\n",
       "      <td>19000</td>\n",
       "    </tr>\n",
       "    <tr>\n",
       "      <th>5</th>\n",
       "      <td>Kaohsiung</td>\n",
       "      <td>10000</td>\n",
       "      <td>13000</td>\n",
       "      <td>23000</td>\n",
       "    </tr>\n",
       "  </tbody>\n",
       "</table>\n",
       "</div>"
      ],
      "text/plain": [
       "         city  maternity pension  childcare allowance  total\n",
       "0  New Taipei              20000                13000  33000\n",
       "1      Taipei              20000                13000  33000\n",
       "2     Taoyuan              30000                13000  43000\n",
       "3    Taichung              10000                13000  23000\n",
       "4      Tainan               6000                13000  19000\n",
       "5   Kaohsiung              10000                13000  23000"
      ]
     },
     "execution_count": 34,
     "metadata": {},
     "output_type": "execute_result"
    }
   ],
   "source": [
    "import pandas as pd\n",
    "from matplotlib import pyplot as plt\n",
    "import matplotlib as mpl\n",
    "import seaborn as sns\n",
    "%matplotlib inline\n",
    "\n",
    "a = pd.read_excel('2019六都生育及育兒津貼數據.xlsx')\n",
    "a"
   ]
  },
  {
   "cell_type": "code",
   "execution_count": 39,
   "id": "72b02f50",
   "metadata": {},
   "outputs": [
    {
     "data": {
      "image/png": "[encoded data removed]",
      "text/plain": [
       "<Figure size 720x720 with 1 Axes>"
      ]
     },
     "metadata": {
      "needs_background": "light"
     },
     "output_type": "display_data"
    }
   ],
   "source": [
    "sns.set_context({'figure.figsize': (10, 10)})\n",
    "sns.barplot(x = a.city, y = a.total, color = \"red\")\n",
    "\n",
    "sns.barplot(x = 'city', y = 'maternity pension', data = a, color = 'blue')\n",
    "\n",
    "topbar = plt.Rectangle((0,0),1,1, fc = 'blue', edgecolor = 'none')\n",
    "bottombar = plt.Rectangle((0,0),1,1, fc = 'red', edgecolor = 'none')\n",
    "plt.legend([bottombar, topbar], ['Childcare Allowance', 'Maternity Pension'], loc = 0, prop = {'size':12})\n",
    "\n",
    "plt.xlabel('City')\n",
    "plt.ylabel('Money')\n",
    "plt.show()"
   ]
  },
  {
   "cell_type": "code",
   "execution_count": null,
   "id": "d2ce0828",
   "metadata": {},
   "outputs": [],
   "source": []
  }
 ],
 "metadata": {
  "kernelspec": {
   "display_name": "Python 3",
   "language": "python",
   "name": "python3"
  },
  "language_info": {
   "codemirror_mode": {
    "name": "ipython",
    "version": 3
   },
   "file_extension": ".py",
   "mimetype": "text/x-python",
   "name": "python",
   "nbconvert_exporter": "python",
   "pygments_lexer": "ipython3",
   "version": "3.8.8"
  }
 },
 "nbformat": 4,
 "nbformat_minor": 5
}
